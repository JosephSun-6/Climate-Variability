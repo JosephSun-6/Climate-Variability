{
 "cells": [
  {
   "cell_type": "code",
   "execution_count": 1,
   "id": "be2e6ea5",
   "metadata": {},
   "outputs": [],
   "source": [
    "import glob\n",
    "import netCDF4 as nc\n",
    "import numpy as np\n",
    "from osgeo import gdal,osr,ogr"
   ]
  },
  {
   "cell_type": "code",
   "execution_count": 2,
   "id": "062207a7",
   "metadata": {},
   "outputs": [
    {
     "data": {
      "text/plain": [
       "['.\\\\nc\\\\GLDAS_NOAH025_M.A202101.021.nc4',\n",
       " '.\\\\nc\\\\GLDAS_NOAH025_M.A202102.021.nc4',\n",
       " '.\\\\nc\\\\GLDAS_NOAH025_M.A202103.021.nc4',\n",
       " '.\\\\nc\\\\GLDAS_NOAH025_M.A202104.021.nc4',\n",
       " '.\\\\nc\\\\GLDAS_NOAH025_M.A202105.021.nc4']"
      ]
     },
     "execution_count": 2,
     "metadata": {},
     "output_type": "execute_result"
    }
   ],
   "source": [
    "Input_folder = r'.\\nc'\n",
    "Output_folder = r'.\\tif\\output'\n",
    "# 读取所有nc数据\n",
    "data_list = glob.glob(Input_folder + '/*.nc4')\n",
    "data_list[:5]"
   ]
  },
  {
   "cell_type": "code",
   "execution_count": 3,
   "id": "eec6ef63",
   "metadata": {
    "scrolled": false
   },
   "outputs": [
    {
     "name": "stdout",
     "output_type": "stream",
     "text": [
      "<class 'netCDF4._netCDF4.Dataset'>\n",
      "root group (NETCDF4 data model, file format HDF5):\n",
      "    missing_value: -9999.0\n",
      "    tavg definition:: past 3-hour average\n",
      "    acc definition:: past 3-hour accumulation\n",
      "    inst definition:: instantaneous\n",
      "    title: GLDAS2.1 LIS land surface model output monthly mean\n",
      "    institution: NASA GSFC\n",
      "    source: Noah_v3.6 forced with GDAS-AGRMET-GPCPv13rA1_202101\n",
      "    history: created on date: 2021-04-23T11:19:32.357\n",
      "    references: Rodell_etal_BAMS_2004, Kumar_etal_EMS_2006, Peters-Lidard_etal_ISSE_2007\n",
      "    conventions: CF-1.6\n",
      "    comment: website: https://ldas.gsfc.nasa.gov/gldas, https://lis.gsfc.nasa.gov/\n",
      "    MAP_PROJECTION: EQUIDISTANT CYLINDRICAL\n",
      "    SOUTH_WEST_CORNER_LAT: -59.875\n",
      "    SOUTH_WEST_CORNER_LON: -179.875\n",
      "    DX: 0.25\n",
      "    DY: 0.25\n",
      "    dimensions(sizes): lon(1440), lat(600), time(1), bnds(2)\n",
      "    variables(dimensions): float32 lat(lat), float32 lon(lon), float64 time(time), float64 time_bnds(time, bnds), float32 Swnet_tavg(time, lat, lon), float32 Lwnet_tavg(time, lat, lon), float32 Qle_tavg(time, lat, lon), float32 Qh_tavg(time, lat, lon), float32 Qg_tavg(time, lat, lon), float32 Snowf_tavg(time, lat, lon), float32 Rainf_tavg(time, lat, lon), float32 Evap_tavg(time, lat, lon), float32 Qs_acc(time, lat, lon), float32 Qsb_acc(time, lat, lon), float32 Qsm_acc(time, lat, lon), float32 AvgSurfT_inst(time, lat, lon), float32 Albedo_inst(time, lat, lon), float32 SWE_inst(time, lat, lon), float32 SnowDepth_inst(time, lat, lon), float32 SoilMoi0_10cm_inst(time, lat, lon), float32 SoilMoi10_40cm_inst(time, lat, lon), float32 SoilMoi40_100cm_inst(time, lat, lon), float32 SoilMoi100_200cm_inst(time, lat, lon), float32 SoilTMP0_10cm_inst(time, lat, lon), float32 SoilTMP10_40cm_inst(time, lat, lon), float32 SoilTMP40_100cm_inst(time, lat, lon), float32 SoilTMP100_200cm_inst(time, lat, lon), float32 PotEvap_tavg(time, lat, lon), float32 ECanop_tavg(time, lat, lon), float32 Tveg_tavg(time, lat, lon), float32 ESoil_tavg(time, lat, lon), float32 RootMoist_inst(time, lat, lon), float32 CanopInt_inst(time, lat, lon), float32 Wind_f_inst(time, lat, lon), float32 Rainf_f_tavg(time, lat, lon), float32 Tair_f_inst(time, lat, lon), float32 Qair_f_inst(time, lat, lon), float32 Psurf_f_inst(time, lat, lon), float32 SWdown_f_tavg(time, lat, lon), float32 LWdown_f_tavg(time, lat, lon)\n",
      "    groups:  <class 'netCDF4._netCDF4.Dataset'>\n"
     ]
    }
   ],
   "source": [
    "nc_data_obj = nc.Dataset(data_list[0])\n",
    "print(nc_data_obj, type(nc_data_obj))  # 了解NC_DS的数据类型，<class 'netCDF4._netCDF4.Dataset'>\n",
    "# print(nc_data_obj.variables)  # 了解变量的基本信息"
   ]
  },
  {
   "cell_type": "code",
   "execution_count": 4,
   "id": "44e70cdf",
   "metadata": {},
   "outputs": [],
   "source": [
    "def NC_to_tiffs(data, Output_folder, bandname):\n",
    "    nc_data_obj = nc.Dataset(data)\n",
    "#     print(nc_data_obj, type(nc_data_obj))  # 了解NC_DS的数据类型，<class 'netCDF4._netCDF4.Dataset'>\n",
    "#     print(nc_data_obj.variables)  # 了解变量的基本信息\n",
    "#     print(nc_data_obj)\n",
    "    Lon = nc_data_obj.variables['lon'][:]\n",
    "    Lat = nc_data_obj.variables['lat'][:]\n",
    "\n",
    "    u_arr = np.asarray(nc_data_obj.variables[bandname])  # 这里根据需求输入想要转换的波段名称\n",
    "    # 影像的左上角和右下角坐标\n",
    "    LonMin, LatMax, LonMax, LatMin = [Lon.min(), Lat.max(), Lon.max(), Lat.min()]\n",
    "    # 分辨率计算\n",
    "    N_Lat = len(Lat)\n",
    "    N_Lon = len(Lon)\n",
    "    Lon_Res = (LonMax - LonMin) / (float(N_Lon) - 1)\n",
    "    Lat_Res = (LatMax - LatMin) / (float(N_Lat) - 1)\n",
    "    for i in range(len(u_arr[:])):\n",
    "        # 创建.tif文件\n",
    "        driver = gdal.GetDriverByName('GTiff')\n",
    "        out_tif_name = Output_folder + '/' + bandname +'_'  + data.split('\\\\')[2].split('.')[1][1:] +  '.tif'\n",
    "        out_tif = driver.Create(out_tif_name, N_Lon, N_Lat, 1, gdal.GDT_Float32)\n",
    "        # 设置影像的显示范围\n",
    "        # -Lat_Res一定要是-的\n",
    "        geotransform = (LonMin, Lon_Res, 0, LatMax, 0, -Lat_Res)\n",
    "        out_tif.SetGeoTransform(geotransform)\n",
    "        # 获取地理坐标系统信息，用于选取需要的地理坐标系统\n",
    "        srs = osr.SpatialReference()\n",
    "        srs.ImportFromEPSG(4326)  # 定义输出的坐标系为\"WGS 84\"，AUTHORITY[\"EPSG\",\"4326\"]\n",
    "        out_tif.SetProjection(srs.ExportToWkt())  # 给新建图层赋予投影信息\n",
    "\n",
    "        # 去除异常值\n",
    "        u_arr[u_arr[:, :] == -9999.0] = np.nan\n",
    "        # 数据写出\n",
    "        out_tif.GetRasterBand(1).WriteArray(u_arr[i][::-1]*60*60*24*30)\n",
    "        # 将数据写入内存，此时没有写入硬盘 此处[::-1]用于图像的垂直镜像对称，避免图像颠倒\n",
    "        out_tif.FlushCache()  # 将数据写入硬盘\n",
    "        del out_tif  # 注意必须关闭tif文件"
   ]
  },
  {
   "cell_type": "code",
   "execution_count": 5,
   "id": "e16bdf03",
   "metadata": {
    "scrolled": true
   },
   "outputs": [],
   "source": [
    "for i in range(len(data_list)):\n",
    "    data = data_list[i]\n",
    "    NC_to_tiffs(data, Output_folder,\"Evap_tavg\")"
   ]
  },
  {
   "cell_type": "markdown",
   "id": "4b1981f8",
   "metadata": {},
   "source": [
    "## Clip"
   ]
  },
  {
   "cell_type": "code",
   "execution_count": 6,
   "id": "07342de3",
   "metadata": {},
   "outputs": [
    {
     "data": {
      "text/plain": [
       "['./tif/output\\\\Evap_tavg_202101.tif',\n",
       " './tif/output\\\\Evap_tavg_202102.tif',\n",
       " './tif/output\\\\Evap_tavg_202103.tif',\n",
       " './tif/output\\\\Evap_tavg_202104.tif',\n",
       " './tif/output\\\\Evap_tavg_202105.tif']"
      ]
     },
     "execution_count": 6,
     "metadata": {},
     "output_type": "execute_result"
    }
   ],
   "source": [
    "Input_folder = './tif/output/'\n",
    "Output_folder = './tif/clip/'\n",
    "# 读取所有nc数据\n",
    "data_list = glob.glob(Input_folder + '/*.tif')\n",
    "data_list[:5]"
   ]
  },
  {
   "cell_type": "code",
   "execution_count": 7,
   "id": "a8f8e3c3",
   "metadata": {},
   "outputs": [],
   "source": [
    "def clipTif(data):\n",
    "    input_shape = r\"shp/Uzb.shp\" \n",
    "    output_raster= Output_folder + data.split('\\\\')[1].split('.')[0].split(\"_\")[-1] +\".tif\"\n",
    "    # tif输入路径，打开文件\n",
    "    input_raster = data\n",
    "    # 矢量文件路径，打开矢量文件\n",
    "    input_raster=gdal.Open(input_raster)\n",
    "    ds = gdal.Warp(output_raster, # 裁剪图像保存完整路径（包括文件名）\n",
    "                   input_raster, # 待裁剪的影像\n",
    "                    # warpMemoryLimit=500 内存大小M\n",
    "                   format='GTiff', # 保存图像的格式\n",
    "                   cutlineDSName = input_shape, # 矢量文件的完整路径\n",
    "                   cropToCutline = True,\n",
    "                   copyMetadata=True,\n",
    "                   creationOptions=['COMPRESS=LZW',\"TILED=True\"],\n",
    "                   cutlineWhere=\"FIELD = 'whatever'\",\n",
    "                   dstNodata=None)"
   ]
  },
  {
   "cell_type": "code",
   "execution_count": 8,
   "id": "82ce041d",
   "metadata": {},
   "outputs": [],
   "source": [
    "for i in range(len(data_list)):\n",
    "    data = data_list[i]\n",
    "    clipTif(data)"
   ]
  },
  {
   "cell_type": "markdown",
   "id": "21dd67c2",
   "metadata": {},
   "source": [
    "## statistics"
   ]
  },
  {
   "cell_type": "code",
   "execution_count": 9,
   "id": "2dfff5d8",
   "metadata": {},
   "outputs": [],
   "source": [
    "def readTif(fileName):\n",
    "    dataset = gdal.Open(fileName)\n",
    "    im_width = dataset.RasterXSize #栅格矩阵的列数\n",
    "    im_height = dataset.RasterYSize #栅格矩阵的行数\n",
    "#     print(im_width, im_height)\n",
    "    im_data = dataset.ReadAsArray(0,0,im_width,im_height)#获取数据\n",
    "    im =  im_data[0:im_height,0:im_width]#获取蓝波段\n",
    "    return im"
   ]
  },
  {
   "cell_type": "code",
   "execution_count": 10,
   "id": "e2454a70",
   "metadata": {},
   "outputs": [
    {
     "data": {
      "text/plain": [
       "['./tif/clip\\\\202101.tif',\n",
       " './tif/clip\\\\202102.tif',\n",
       " './tif/clip\\\\202103.tif',\n",
       " './tif/clip\\\\202104.tif',\n",
       " './tif/clip\\\\202105.tif']"
      ]
     },
     "execution_count": 10,
     "metadata": {},
     "output_type": "execute_result"
    }
   ],
   "source": [
    "Input_folder = './tif/clip/'\n",
    "Output_folder = './tif/sum/'\n",
    "# 读取所有nc数据\n",
    "data_list = glob.glob(Input_folder + '/*.tif')\n",
    "data_list[:5]"
   ]
  },
  {
   "cell_type": "code",
   "execution_count": 11,
   "id": "3528886a",
   "metadata": {},
   "outputs": [],
   "source": [
    "dataset = gdal.Open(data_list[0])\n",
    "im_width = dataset.RasterXSize #栅格矩阵的列数\n",
    "im_height = dataset.RasterYSize #栅格矩阵的行数\n",
    "im_bands = dataset.RasterCount #波段数\n",
    "im_data = dataset.ReadAsArray(0,0,im_width,im_height)#获取数据\n",
    "im_geotrans = dataset.GetGeoTransform()#获取仿射矩阵信息\n",
    "im_proj = dataset.GetProjection()#获取投影信息"
   ]
  },
  {
   "cell_type": "code",
   "execution_count": 12,
   "id": "ff615b99",
   "metadata": {},
   "outputs": [],
   "source": [
    "def writeTiff(im_data,path,im_width,im_height,im_bands,im_geotrans,im_proj):\n",
    "    if 'int8' in im_data.dtype.name:\n",
    "        datatype = gdal.GDT_Byte\n",
    "    elif 'int16' in im_data.dtype.name:\n",
    "        datatype = gdal.GDT_UInt16\n",
    "    else:\n",
    "        datatype = gdal.GDT_Float32\n",
    "\n",
    "    if len(im_data.shape) == 3:\n",
    "        im_bands, im_height, im_width = im_data.shape\n",
    "    elif len(im_data.shape) == 2:\n",
    "        im_data = np.array([im_data])\n",
    "    else:\n",
    "        im_bands, (im_height, im_width) = 1,im_data.shape\n",
    "        #创建文件\n",
    "    driver = gdal.GetDriverByName(\"GTiff\")\n",
    "    \n",
    "    path = Output_folder + \"\\\\\" + path.split('\\\\')[1].split('.')[0][:4] + \".tif\"\n",
    "    dataset = driver.Create(path, im_width, im_height, im_bands, datatype)\n",
    "    if(dataset!= None):\n",
    "        dataset.SetGeoTransform(im_geotrans) #写入仿射变换参数\n",
    "        dataset.SetProjection(im_proj) #写入投影\n",
    "    for i in range(im_bands):\n",
    "        dataset.GetRasterBand(i+1).WriteArray(im_data[i])\n",
    "    del dataset"
   ]
  },
  {
   "cell_type": "code",
   "execution_count": 13,
   "id": "0f5c1207",
   "metadata": {},
   "outputs": [
    {
     "data": {
      "text/plain": [
       "12"
      ]
     },
     "execution_count": 13,
     "metadata": {},
     "output_type": "execute_result"
    }
   ],
   "source": [
    "len(data_list)"
   ]
  },
  {
   "cell_type": "code",
   "execution_count": 14,
   "id": "37de8011",
   "metadata": {
    "scrolled": true
   },
   "outputs": [
    {
     "name": "stdout",
     "output_type": "stream",
     "text": [
      "1.0\n"
     ]
    }
   ],
   "source": [
    "index = 1\n",
    "tmp = np.zeros(readTif(data_list[0]).shape ,dtype=float)\n",
    "for i in range(0, len(data_list)):\n",
    "    if index % 12 == 0:\n",
    "        print(index / 12)\n",
    "        writeTiff(tmp,data_list[i -1] ,im_width ,im_height ,im_bands ,im_geotrans ,im_proj)\n",
    "        tmp = np.zeros(readTif(data_list[i]).shape ,dtype=float)\n",
    "\n",
    "    tmp += np.array(readTif(data_list[i]))\n",
    "    index+=1"
   ]
  }
 ],
 "metadata": {
  "kernelspec": {
   "display_name": "Python 3 (ipykernel)",
   "language": "python",
   "name": "python3"
  },
  "language_info": {
   "codemirror_mode": {
    "name": "ipython",
    "version": 3
   },
   "file_extension": ".py",
   "mimetype": "text/x-python",
   "name": "python",
   "nbconvert_exporter": "python",
   "pygments_lexer": "ipython3",
   "version": "3.8.0"
  }
 },
 "nbformat": 4,
 "nbformat_minor": 5
}
